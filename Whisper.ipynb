{
 "cells": [
  {
   "cell_type": "markdown",
   "id": "87ad8cf2-0d98-4589-9b16-82f82e03916e",
   "metadata": {},
   "source": [
    "## Integrating Whisper into a fully functional Website"
   ]
  },
  {
   "cell_type": "markdown",
   "id": "494256fd-8e83-4799-89c6-b752bf2f20b2",
   "metadata": {},
   "source": [
    "### Installing Whisper and Dependencies"
   ]
  },
  {
   "cell_type": "code",
   "execution_count": 11,
   "id": "13208a78-0c84-458b-b740-4b2777661f46",
   "metadata": {
    "tags": []
   },
   "outputs": [],
   "source": [
    "# pip install git+https://github.com/openai/whisper.git\n",
    "#pip install flask"
   ]
  },
  {
   "cell_type": "code",
   "execution_count": null,
   "id": "f687ff51-c6fe-44e4-a656-0d15b4f0ad24",
   "metadata": {},
   "outputs": [],
   "source": []
  }
 ],
 "metadata": {
  "kernelspec": {
   "display_name": "Python 3 (ipykernel)",
   "language": "python",
   "name": "python3"
  },
  "language_info": {
   "codemirror_mode": {
    "name": "ipython",
    "version": 3
   },
   "file_extension": ".py",
   "mimetype": "text/x-python",
   "name": "python",
   "nbconvert_exporter": "python",
   "pygments_lexer": "ipython3",
   "version": "3.11.5"
  }
 },
 "nbformat": 4,
 "nbformat_minor": 5
}
